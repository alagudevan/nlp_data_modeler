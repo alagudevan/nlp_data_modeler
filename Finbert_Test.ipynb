{
 "cells": [
  {
   "cell_type": "code",
   "execution_count": 1,
   "id": "1de00462",
   "metadata": {},
   "outputs": [
    {
     "name": "stderr",
     "output_type": "stream",
     "text": [
      "2023-12-15 10:17:52.520650: I tensorflow/core/platform/cpu_feature_guard.cc:182] This TensorFlow binary is optimized to use available CPU instructions in performance-critical operations.\n",
      "To enable the following instructions: AVX2 FMA, in other operations, rebuild TensorFlow with the appropriate compiler flags.\n",
      "/Users/vijay/opt/anaconda3/lib/python3.9/site-packages/scipy/__init__.py:146: UserWarning: A NumPy version >=1.16.5 and <1.23.0 is required for this version of SciPy (detected version 1.26.2\n",
      "  warnings.warn(f\"A NumPy version >={np_minversion} and <{np_maxversion}\"\n"
     ]
    },
    {
     "name": "stdout",
     "output_type": "stream",
     "text": [
      "Text Tokens:  ['another', 'psu', 'bank', ',', 'punjab', 'national', 'bank', 'which', 'also', 'reported', 'numbers', 'managed', 'to', 'see', 'a', 'slight', 'improvement', 'in', 'asset', 'quality', '.']\n",
      "Shape of Word Embeddings: 21 x 768\n",
      "Shape of Sentence Embedding =  768\n"
     ]
    }
   ],
   "source": [
    "from finbert_embedding.embedding import FinbertEmbedding\n",
    "\n",
    "text = \"Another PSU bank, Punjab National Bank which also reported numbers managed to see a slight improvement in asset quality.\"\n",
    "\n",
    "# Class Initialization (You can set default 'model_path=None' as your finetuned BERT model path while Initialization)\n",
    "finbert = FinbertEmbedding()\n",
    "\n",
    "word_embeddings = finbert.word_vector(text)\n",
    "sentence_embedding = finbert.sentence_vector(text)\n",
    "\n",
    "print(\"Text Tokens: \", finbert.tokens)\n",
    "# Text Tokens:  ['another', 'psu', 'bank', ',', 'punjab', 'national', 'bank', 'which', 'also', 'reported', 'numbers', 'managed', 'to', 'see', 'a', 'slight', 'improvement', 'in', 'asset', 'quality', '.']\n",
    "\n",
    "print ('Shape of Word Embeddings: %d x %d' % (len(word_embeddings), len(word_embeddings[0])))\n",
    "# Shape of Word Embeddings: 21 x 768\n",
    "\n",
    "print(\"Shape of Sentence Embedding = \",len(sentence_embedding))"
   ]
  },
  {
   "cell_type": "code",
   "execution_count": 2,
   "id": "bd883f27",
   "metadata": {},
   "outputs": [
    {
     "data": {
      "text/html": [
       "<div>\n",
       "<style scoped>\n",
       "    .dataframe tbody tr th:only-of-type {\n",
       "        vertical-align: middle;\n",
       "    }\n",
       "\n",
       "    .dataframe tbody tr th {\n",
       "        vertical-align: top;\n",
       "    }\n",
       "\n",
       "    .dataframe thead th {\n",
       "        text-align: right;\n",
       "    }\n",
       "</style>\n",
       "<table border=\"1\" class=\"dataframe\">\n",
       "  <thead>\n",
       "    <tr style=\"text-align: right;\">\n",
       "      <th></th>\n",
       "      <th>Headline</th>\n",
       "      <th>Positive</th>\n",
       "      <th>Negative</th>\n",
       "      <th>Neutral</th>\n",
       "    </tr>\n",
       "  </thead>\n",
       "  <tbody>\n",
       "    <tr>\n",
       "      <th>0</th>\n",
       "      <td>Punjab National Bank which also reported numbe...</td>\n",
       "      <td>0.958428</td>\n",
       "      <td>0.023605</td>\n",
       "      <td>0.017967</td>\n",
       "    </tr>\n",
       "    <tr>\n",
       "      <th>1</th>\n",
       "      <td>Citi bank predics housing market crash in 2024</td>\n",
       "      <td>0.023949</td>\n",
       "      <td>0.801739</td>\n",
       "      <td>0.174312</td>\n",
       "    </tr>\n",
       "    <tr>\n",
       "      <th>2</th>\n",
       "      <td>Apple stock sink due to EU proposal</td>\n",
       "      <td>0.016743</td>\n",
       "      <td>0.891260</td>\n",
       "      <td>0.091997</td>\n",
       "    </tr>\n",
       "    <tr>\n",
       "      <th>3</th>\n",
       "      <td>Fund obligations created pursuant to derivativ...</td>\n",
       "      <td>0.022261</td>\n",
       "      <td>0.567160</td>\n",
       "      <td>0.410579</td>\n",
       "    </tr>\n",
       "  </tbody>\n",
       "</table>\n",
       "</div>"
      ],
      "text/plain": [
       "                                            Headline  Positive  Negative  \\\n",
       "0  Punjab National Bank which also reported numbe...  0.958428  0.023605   \n",
       "1     Citi bank predics housing market crash in 2024  0.023949  0.801739   \n",
       "2                Apple stock sink due to EU proposal  0.016743  0.891260   \n",
       "3  Fund obligations created pursuant to derivativ...  0.022261  0.567160   \n",
       "\n",
       "    Neutral  \n",
       "0  0.017967  \n",
       "1  0.174312  \n",
       "2  0.091997  \n",
       "3  0.410579  "
      ]
     },
     "execution_count": 2,
     "metadata": {},
     "output_type": "execute_result"
    }
   ],
   "source": [
    "import re\n",
    "from transformers import AutoTokenizer, AutoModelForSequenceClassification\n",
    "import torch\n",
    "import pandas as pd\n",
    "\n",
    "df_list = [\"Punjab National Bank which also reported numbers managed to see a slight improvement in asset quality.\",\n",
    "          \"Citi bank predics housing market crash in 2024\",\n",
    "          \"Apple stock sink due to EU proposal\",\n",
    "          \"Fund obligations created pursuant to derivative instruments may give rise to leverage, which may subject the fund to heightened avoid risk of loss.\"]\n",
    "\n",
    "tokenizer = AutoTokenizer.from_pretrained(\"ProsusAI/finbert\")\n",
    "\n",
    "model = AutoModelForSequenceClassification.from_pretrained(\"ProsusAI/finbert\")\n",
    "\n",
    "inputs = tokenizer(df_list, padding = True, truncation = True, return_tensors='pt') #tokenize text to be sent to model\n",
    "\n",
    "outputs = model(**inputs)\n",
    "\n",
    "predictions = torch.nn.functional.softmax(outputs.logits, dim=-1)\n",
    "\n",
    "model.config.id2label\n",
    "\n",
    "positive = predictions[:, 0].tolist()\n",
    "\n",
    "negative = predictions[:, 1].tolist()\n",
    "\n",
    "neutral = predictions[:, 2].tolist()\n",
    "\n",
    "table = {'Headline':df_list, \"Positive\":positive, \"Negative\":negative, \"Neutral\":neutral}\n",
    "\n",
    "df2 = pd.DataFrame(table, columns = [\"Headline\", \"Positive\", \"Negative\", \"Neutral\"])\n",
    "\n",
    "df2.head()"
   ]
  },
  {
   "cell_type": "code",
   "execution_count": null,
   "id": "51489da0",
   "metadata": {},
   "outputs": [],
   "source": []
  }
 ],
 "metadata": {
  "kernelspec": {
   "display_name": "Python 3 (ipykernel)",
   "language": "python",
   "name": "python3"
  },
  "language_info": {
   "codemirror_mode": {
    "name": "ipython",
    "version": 3
   },
   "file_extension": ".py",
   "mimetype": "text/x-python",
   "name": "python",
   "nbconvert_exporter": "python",
   "pygments_lexer": "ipython3",
   "version": "3.9.7"
  }
 },
 "nbformat": 4,
 "nbformat_minor": 5
}
